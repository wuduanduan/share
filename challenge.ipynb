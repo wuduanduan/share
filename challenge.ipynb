{
 "cells": [
  {
   "cell_type": "code",
   "execution_count": 1,
   "metadata": {},
   "outputs": [],
   "source": [
    "import pandas as pd\n",
    "import numpy as np\n",
    "import xgboost as xgb\n",
    "from xgboost.sklearn import XGBRegressor"
   ]
  },
  {
   "cell_type": "code",
   "execution_count": 2,
   "metadata": {},
   "outputs": [],
   "source": [
    "import matplotlib.pyplot as plt\n",
    "from xgboost import plot_importance"
   ]
  },
  {
   "cell_type": "code",
   "execution_count": 3,
   "metadata": {},
   "outputs": [],
   "source": [
    "import sklearn\n",
    "from sklearn.model_selection import GridSearchCV, RandomizedSearchCV\n",
    "from sklearn import preprocessing\n",
    "from sklearn import utils\n",
    "import warnings\n",
    "warnings.filterwarnings('ignore')"
   ]
  },
  {
   "cell_type": "code",
   "execution_count": 4,
   "metadata": {},
   "outputs": [],
   "source": [
    "#toy example of data engineering function\n",
    "def engineerData(df, engineeringParam1='defaultValue', engineeringParam2='anotherValue', isTrain=True, hasY=True):\n",
    "    #...\n",
    "    #do some processing of df in here.\n",
    "    #as this is a toy e.g., I just return data without any changes\n",
    "    newEngineeredData = df\n",
    "    #...\n",
    "    if hasY:\n",
    "        return newEngineeredData.iloc[:,:-1], newEngineeredData.iloc[:,-1]\n",
    "    else:\n",
    "        return newEngineeredData"
   ]
  },
  {
   "cell_type": "markdown",
   "metadata": {},
   "source": [
    "## Read-in date and take a look"
   ]
  },
  {
   "cell_type": "code",
   "execution_count": 5,
   "metadata": {},
   "outputs": [],
   "source": [
    "data = pd.read_csv('./export.csv')"
   ]
  },
  {
   "cell_type": "code",
   "execution_count": 6,
   "metadata": {},
   "outputs": [
    {
     "data": {
      "text/html": [
       "<div>\n",
       "<style scoped>\n",
       "    .dataframe tbody tr th:only-of-type {\n",
       "        vertical-align: middle;\n",
       "    }\n",
       "\n",
       "    .dataframe tbody tr th {\n",
       "        vertical-align: top;\n",
       "    }\n",
       "\n",
       "    .dataframe thead th {\n",
       "        text-align: right;\n",
       "    }\n",
       "</style>\n",
       "<table border=\"1\" class=\"dataframe\">\n",
       "  <thead>\n",
       "    <tr style=\"text-align: right;\">\n",
       "      <th></th>\n",
       "      <th>Unnamed: 0</th>\n",
       "      <th>Undl0volatm_6M</th>\n",
       "      <th>Undl0skew95.105_6M</th>\n",
       "      <th>Undl0curve95.105_6M</th>\n",
       "      <th>Undl0skew70.130_6M</th>\n",
       "      <th>Undl0curve70.130_6M</th>\n",
       "      <th>Undl0volatm_1Y</th>\n",
       "      <th>Undl0skew95.105_1Y</th>\n",
       "      <th>Undl0curve95.105_1Y</th>\n",
       "      <th>Undl0skew70.130_1Y</th>\n",
       "      <th>...</th>\n",
       "      <th>Undl2svc</th>\n",
       "      <th>Undl0mr</th>\n",
       "      <th>Undl1mr</th>\n",
       "      <th>Undl2mr</th>\n",
       "      <th>ContractFeature_Autocall,BarrierLevel,LevelInitial</th>\n",
       "      <th>ContractFeature_ExpiryPayment,BarrierLevel</th>\n",
       "      <th>ContractFeature_ExpiryPayment,KickInPaymentGearing_ENCODED</th>\n",
       "      <th>ContractFeature_Schedule,EndDate_ENCODED</th>\n",
       "      <th>ContractFeature_Schedule,PeriodFrequency_ENCODED</th>\n",
       "      <th>val_lvsvcharge</th>\n",
       "    </tr>\n",
       "  </thead>\n",
       "  <tbody>\n",
       "    <tr>\n",
       "      <th>0</th>\n",
       "      <td>27000</td>\n",
       "      <td>0.199696</td>\n",
       "      <td>-0.639256</td>\n",
       "      <td>0.548851</td>\n",
       "      <td>-0.522159</td>\n",
       "      <td>0.271453</td>\n",
       "      <td>0.175803</td>\n",
       "      <td>-0.289374</td>\n",
       "      <td>0.207985</td>\n",
       "      <td>-0.2683</td>\n",
       "      <td>...</td>\n",
       "      <td>-0.51</td>\n",
       "      <td>1.32</td>\n",
       "      <td>1.27</td>\n",
       "      <td>1.065</td>\n",
       "      <td>1.0</td>\n",
       "      <td>0.50</td>\n",
       "      <td>1.0</td>\n",
       "      <td>1</td>\n",
       "      <td>4.0</td>\n",
       "      <td>0.011354</td>\n",
       "    </tr>\n",
       "    <tr>\n",
       "      <th>1</th>\n",
       "      <td>27001</td>\n",
       "      <td>0.199696</td>\n",
       "      <td>-0.639256</td>\n",
       "      <td>0.548851</td>\n",
       "      <td>-0.522159</td>\n",
       "      <td>0.271453</td>\n",
       "      <td>0.175803</td>\n",
       "      <td>-0.289374</td>\n",
       "      <td>0.207985</td>\n",
       "      <td>-0.2683</td>\n",
       "      <td>...</td>\n",
       "      <td>-0.51</td>\n",
       "      <td>1.32</td>\n",
       "      <td>1.27</td>\n",
       "      <td>1.065</td>\n",
       "      <td>1.0</td>\n",
       "      <td>0.50</td>\n",
       "      <td>2.0</td>\n",
       "      <td>1</td>\n",
       "      <td>4.0</td>\n",
       "      <td>0.018649</td>\n",
       "    </tr>\n",
       "    <tr>\n",
       "      <th>2</th>\n",
       "      <td>27002</td>\n",
       "      <td>0.199696</td>\n",
       "      <td>-0.639256</td>\n",
       "      <td>0.548851</td>\n",
       "      <td>-0.522159</td>\n",
       "      <td>0.271453</td>\n",
       "      <td>0.175803</td>\n",
       "      <td>-0.289374</td>\n",
       "      <td>0.207985</td>\n",
       "      <td>-0.2683</td>\n",
       "      <td>...</td>\n",
       "      <td>-0.51</td>\n",
       "      <td>1.32</td>\n",
       "      <td>1.27</td>\n",
       "      <td>1.065</td>\n",
       "      <td>1.0</td>\n",
       "      <td>0.50</td>\n",
       "      <td>1.0</td>\n",
       "      <td>1</td>\n",
       "      <td>12.0</td>\n",
       "      <td>0.014786</td>\n",
       "    </tr>\n",
       "    <tr>\n",
       "      <th>3</th>\n",
       "      <td>27003</td>\n",
       "      <td>0.199696</td>\n",
       "      <td>-0.639256</td>\n",
       "      <td>0.548851</td>\n",
       "      <td>-0.522159</td>\n",
       "      <td>0.271453</td>\n",
       "      <td>0.175803</td>\n",
       "      <td>-0.289374</td>\n",
       "      <td>0.207985</td>\n",
       "      <td>-0.2683</td>\n",
       "      <td>...</td>\n",
       "      <td>-0.51</td>\n",
       "      <td>1.32</td>\n",
       "      <td>1.27</td>\n",
       "      <td>1.065</td>\n",
       "      <td>1.0</td>\n",
       "      <td>0.50</td>\n",
       "      <td>2.0</td>\n",
       "      <td>1</td>\n",
       "      <td>12.0</td>\n",
       "      <td>0.023954</td>\n",
       "    </tr>\n",
       "    <tr>\n",
       "      <th>4</th>\n",
       "      <td>27004</td>\n",
       "      <td>0.199696</td>\n",
       "      <td>-0.639256</td>\n",
       "      <td>0.548851</td>\n",
       "      <td>-0.522159</td>\n",
       "      <td>0.271453</td>\n",
       "      <td>0.175803</td>\n",
       "      <td>-0.289374</td>\n",
       "      <td>0.207985</td>\n",
       "      <td>-0.2683</td>\n",
       "      <td>...</td>\n",
       "      <td>-0.51</td>\n",
       "      <td>1.32</td>\n",
       "      <td>1.27</td>\n",
       "      <td>1.065</td>\n",
       "      <td>1.0</td>\n",
       "      <td>0.55</td>\n",
       "      <td>1.0</td>\n",
       "      <td>1</td>\n",
       "      <td>4.0</td>\n",
       "      <td>0.012308</td>\n",
       "    </tr>\n",
       "  </tbody>\n",
       "</table>\n",
       "<p>5 rows × 166 columns</p>\n",
       "</div>"
      ],
      "text/plain": [
       "   Unnamed: 0  Undl0volatm_6M  Undl0skew95.105_6M  Undl0curve95.105_6M  \\\n",
       "0       27000        0.199696           -0.639256             0.548851   \n",
       "1       27001        0.199696           -0.639256             0.548851   \n",
       "2       27002        0.199696           -0.639256             0.548851   \n",
       "3       27003        0.199696           -0.639256             0.548851   \n",
       "4       27004        0.199696           -0.639256             0.548851   \n",
       "\n",
       "   Undl0skew70.130_6M  Undl0curve70.130_6M  Undl0volatm_1Y  \\\n",
       "0           -0.522159             0.271453        0.175803   \n",
       "1           -0.522159             0.271453        0.175803   \n",
       "2           -0.522159             0.271453        0.175803   \n",
       "3           -0.522159             0.271453        0.175803   \n",
       "4           -0.522159             0.271453        0.175803   \n",
       "\n",
       "   Undl0skew95.105_1Y  Undl0curve95.105_1Y  Undl0skew70.130_1Y  ...  Undl2svc  \\\n",
       "0           -0.289374             0.207985             -0.2683  ...     -0.51   \n",
       "1           -0.289374             0.207985             -0.2683  ...     -0.51   \n",
       "2           -0.289374             0.207985             -0.2683  ...     -0.51   \n",
       "3           -0.289374             0.207985             -0.2683  ...     -0.51   \n",
       "4           -0.289374             0.207985             -0.2683  ...     -0.51   \n",
       "\n",
       "   Undl0mr  Undl1mr  Undl2mr  \\\n",
       "0     1.32     1.27    1.065   \n",
       "1     1.32     1.27    1.065   \n",
       "2     1.32     1.27    1.065   \n",
       "3     1.32     1.27    1.065   \n",
       "4     1.32     1.27    1.065   \n",
       "\n",
       "   ContractFeature_Autocall,BarrierLevel,LevelInitial  \\\n",
       "0                                                1.0    \n",
       "1                                                1.0    \n",
       "2                                                1.0    \n",
       "3                                                1.0    \n",
       "4                                                1.0    \n",
       "\n",
       "   ContractFeature_ExpiryPayment,BarrierLevel  \\\n",
       "0                                        0.50   \n",
       "1                                        0.50   \n",
       "2                                        0.50   \n",
       "3                                        0.50   \n",
       "4                                        0.55   \n",
       "\n",
       "   ContractFeature_ExpiryPayment,KickInPaymentGearing_ENCODED  \\\n",
       "0                                                1.0            \n",
       "1                                                2.0            \n",
       "2                                                1.0            \n",
       "3                                                2.0            \n",
       "4                                                1.0            \n",
       "\n",
       "   ContractFeature_Schedule,EndDate_ENCODED  \\\n",
       "0                                         1   \n",
       "1                                         1   \n",
       "2                                         1   \n",
       "3                                         1   \n",
       "4                                         1   \n",
       "\n",
       "   ContractFeature_Schedule,PeriodFrequency_ENCODED  val_lvsvcharge  \n",
       "0                                               4.0        0.011354  \n",
       "1                                               4.0        0.018649  \n",
       "2                                              12.0        0.014786  \n",
       "3                                              12.0        0.023954  \n",
       "4                                               4.0        0.012308  \n",
       "\n",
       "[5 rows x 166 columns]"
      ]
     },
     "execution_count": 6,
     "metadata": {},
     "output_type": "execute_result"
    }
   ],
   "source": [
    "data.head()"
   ]
  },
  {
   "cell_type": "code",
   "execution_count": 7,
   "metadata": {},
   "outputs": [
    {
     "data": {
      "image/png": "[encoded data removed]",
      "text/plain": [
       "<Figure size 432x288 with 1 Axes>"
      ]
     },
     "metadata": {
      "needs_background": "light"
     },
     "output_type": "display_data"
    }
   ],
   "source": [
    "plt.plot(np.arange(data.shape[0]), data.iloc[:,-1])\n",
    "plt.show()"
   ]
  },
  {
   "cell_type": "markdown",
   "metadata": {},
   "source": [
    "We remark that target possede certain pattern, so we want to re-shuffle the input."
   ]
  },
  {
   "cell_type": "markdown",
   "metadata": {},
   "source": [
    "### Reshuffle"
   ]
  },
  {
   "cell_type": "code",
   "execution_count": 8,
   "metadata": {},
   "outputs": [
    {
     "data": {
      "image/png": "[encoded data removed]",
      "text/plain": [
       "<Figure size 432x288 with 1 Axes>"
      ]
     },
     "metadata": {
      "needs_background": "light"
     },
     "output_type": "display_data"
    }
   ],
   "source": [
    "data = data.sample(frac = 1).reset_index(drop = True)\n",
    "plt.plot(np.arange(data.shape[0]), data.iloc[:,-1])\n",
    "plt.show()"
   ]
  },
  {
   "cell_type": "markdown",
   "metadata": {},
   "source": [
    "## Drop unamed column\n",
    "We remark that  XGBoost take user id as information, which is apparently overfitting."
   ]
  },
  {
   "cell_type": "code",
   "execution_count": 9,
   "metadata": {},
   "outputs": [],
   "source": [
    "data = data.drop('Unnamed: 0', 1)"
   ]
  },
  {
   "cell_type": "markdown",
   "metadata": {},
   "source": [
    "## Grid search for xgboost parameters"
   ]
  },
  {
   "cell_type": "code",
   "execution_count": 10,
   "metadata": {},
   "outputs": [],
   "source": [
    "#model parameters\n",
    "# param = { 'objective':'mse','max_depth':7,'learning_rate':.01,'max_bin':250, 'seed':15, 'verbose': -1}\n",
    "# param['metric'] = ['mean_squared_error']\n",
    "\n",
    "# a parameter grid for xgboost\n",
    "param = { #'objective':'mse',\n",
    "         'max_depth':[7,10,4],\n",
    "         'learning_rate':[.01, .005, .1],\n",
    "         'max_bin':[250], \n",
    "         'max_depth':[3,5,7],\n",
    "         'gamma':[0,0.5]\n",
    "         #'seed':15, \n",
    "         #'verbose': -1\n",
    "        }"
   ]
  },
  {
   "cell_type": "code",
   "execution_count": 11,
   "metadata": {},
   "outputs": [],
   "source": [
    "#training loop\n",
    "samplesize = 5000\n",
    "trainValidSplit = int(0.75*samplesize)\n",
    "# roundPerBatch = 50"
   ]
  },
  {
   "cell_type": "code",
   "execution_count": 12,
   "metadata": {},
   "outputs": [
    {
     "data": {
      "text/plain": [
       "5149     0.016101\n",
       "5073     0.005247\n",
       "2441    -0.008973\n",
       "16433    0.016947\n",
       "5189     0.009778\n",
       "           ...   \n",
       "18330    0.020968\n",
       "6678     0.018660\n",
       "382      0.011946\n",
       "3551     0.017345\n",
       "9432     0.007648\n",
       "Name: val_lvsvcharge, Length: 3750, dtype: float64"
      ]
     },
     "execution_count": 12,
     "metadata": {},
     "output_type": "execute_result"
    }
   ],
   "source": [
    "engineerData(data.sample(samplesize).iloc[:trainValidSplit,:])[1]"
   ]
  },
  {
   "cell_type": "code",
   "execution_count": 13,
   "metadata": {
    "scrolled": true
   },
   "outputs": [],
   "source": [
    "# Take a sample for  hyperparameter tuning\n",
    "sampleX,sampleY = engineerData(data.sample(samplesize).iloc[:trainValidSplit,:])"
   ]
  },
  {
   "cell_type": "code",
   "execution_count": 14,
   "metadata": {},
   "outputs": [
    {
     "data": {
      "text/html": [
       "<div>\n",
       "<style scoped>\n",
       "    .dataframe tbody tr th:only-of-type {\n",
       "        vertical-align: middle;\n",
       "    }\n",
       "\n",
       "    .dataframe tbody tr th {\n",
       "        vertical-align: top;\n",
       "    }\n",
       "\n",
       "    .dataframe thead th {\n",
       "        text-align: right;\n",
       "    }\n",
       "</style>\n",
       "<table border=\"1\" class=\"dataframe\">\n",
       "  <thead>\n",
       "    <tr style=\"text-align: right;\">\n",
       "      <th></th>\n",
       "      <th>Undl0volatm_6M</th>\n",
       "      <th>Undl0skew95.105_6M</th>\n",
       "      <th>Undl0curve95.105_6M</th>\n",
       "      <th>Undl0skew70.130_6M</th>\n",
       "      <th>Undl0curve70.130_6M</th>\n",
       "      <th>Undl0volatm_1Y</th>\n",
       "      <th>Undl0skew95.105_1Y</th>\n",
       "      <th>Undl0curve95.105_1Y</th>\n",
       "      <th>Undl0skew70.130_1Y</th>\n",
       "      <th>Undl0curve70.130_1Y</th>\n",
       "      <th>...</th>\n",
       "      <th>Undl1svc</th>\n",
       "      <th>Undl2svc</th>\n",
       "      <th>Undl0mr</th>\n",
       "      <th>Undl1mr</th>\n",
       "      <th>Undl2mr</th>\n",
       "      <th>ContractFeature_Autocall,BarrierLevel,LevelInitial</th>\n",
       "      <th>ContractFeature_ExpiryPayment,BarrierLevel</th>\n",
       "      <th>ContractFeature_ExpiryPayment,KickInPaymentGearing_ENCODED</th>\n",
       "      <th>ContractFeature_Schedule,EndDate_ENCODED</th>\n",
       "      <th>ContractFeature_Schedule,PeriodFrequency_ENCODED</th>\n",
       "    </tr>\n",
       "  </thead>\n",
       "  <tbody>\n",
       "    <tr>\n",
       "      <th>8259</th>\n",
       "      <td>0.199696</td>\n",
       "      <td>-0.639256</td>\n",
       "      <td>0.548851</td>\n",
       "      <td>-0.522159</td>\n",
       "      <td>0.271453</td>\n",
       "      <td>0.175803</td>\n",
       "      <td>-0.289374</td>\n",
       "      <td>0.207985</td>\n",
       "      <td>-0.2683</td>\n",
       "      <td>0.141526</td>\n",
       "      <td>...</td>\n",
       "      <td>-0.6300</td>\n",
       "      <td>-0.68</td>\n",
       "      <td>3.96</td>\n",
       "      <td>3.81</td>\n",
       "      <td>3.195</td>\n",
       "      <td>1.05</td>\n",
       "      <td>0.70</td>\n",
       "      <td>1.0</td>\n",
       "      <td>1</td>\n",
       "      <td>4.0</td>\n",
       "    </tr>\n",
       "    <tr>\n",
       "      <th>579</th>\n",
       "      <td>0.199696</td>\n",
       "      <td>-0.639256</td>\n",
       "      <td>0.548851</td>\n",
       "      <td>-0.522159</td>\n",
       "      <td>0.271453</td>\n",
       "      <td>0.175803</td>\n",
       "      <td>-0.289374</td>\n",
       "      <td>0.207985</td>\n",
       "      <td>-0.2683</td>\n",
       "      <td>0.141526</td>\n",
       "      <td>...</td>\n",
       "      <td>-0.6300</td>\n",
       "      <td>-0.68</td>\n",
       "      <td>1.32</td>\n",
       "      <td>1.27</td>\n",
       "      <td>1.065</td>\n",
       "      <td>1.15</td>\n",
       "      <td>0.50</td>\n",
       "      <td>1.0</td>\n",
       "      <td>1</td>\n",
       "      <td>4.0</td>\n",
       "    </tr>\n",
       "    <tr>\n",
       "      <th>11146</th>\n",
       "      <td>0.199696</td>\n",
       "      <td>-0.639256</td>\n",
       "      <td>0.548851</td>\n",
       "      <td>-0.522159</td>\n",
       "      <td>0.271453</td>\n",
       "      <td>0.175803</td>\n",
       "      <td>-0.289374</td>\n",
       "      <td>0.207985</td>\n",
       "      <td>-0.2683</td>\n",
       "      <td>0.141526</td>\n",
       "      <td>...</td>\n",
       "      <td>-0.4725</td>\n",
       "      <td>-0.51</td>\n",
       "      <td>2.64</td>\n",
       "      <td>2.54</td>\n",
       "      <td>2.130</td>\n",
       "      <td>1.05</td>\n",
       "      <td>0.55</td>\n",
       "      <td>1.0</td>\n",
       "      <td>2</td>\n",
       "      <td>12.0</td>\n",
       "    </tr>\n",
       "    <tr>\n",
       "      <th>16275</th>\n",
       "      <td>0.199696</td>\n",
       "      <td>-0.639256</td>\n",
       "      <td>0.548851</td>\n",
       "      <td>-0.522159</td>\n",
       "      <td>0.271453</td>\n",
       "      <td>0.175803</td>\n",
       "      <td>-0.289374</td>\n",
       "      <td>0.207985</td>\n",
       "      <td>-0.2683</td>\n",
       "      <td>0.141526</td>\n",
       "      <td>...</td>\n",
       "      <td>-0.6300</td>\n",
       "      <td>-0.68</td>\n",
       "      <td>2.64</td>\n",
       "      <td>2.54</td>\n",
       "      <td>2.130</td>\n",
       "      <td>1.00</td>\n",
       "      <td>0.60</td>\n",
       "      <td>1.0</td>\n",
       "      <td>1</td>\n",
       "      <td>12.0</td>\n",
       "    </tr>\n",
       "    <tr>\n",
       "      <th>11423</th>\n",
       "      <td>0.199696</td>\n",
       "      <td>-0.639256</td>\n",
       "      <td>0.548851</td>\n",
       "      <td>-0.522159</td>\n",
       "      <td>0.271453</td>\n",
       "      <td>0.175803</td>\n",
       "      <td>-0.289374</td>\n",
       "      <td>0.207985</td>\n",
       "      <td>-0.2683</td>\n",
       "      <td>0.141526</td>\n",
       "      <td>...</td>\n",
       "      <td>-0.6300</td>\n",
       "      <td>-0.68</td>\n",
       "      <td>2.64</td>\n",
       "      <td>2.54</td>\n",
       "      <td>2.130</td>\n",
       "      <td>1.00</td>\n",
       "      <td>0.55</td>\n",
       "      <td>2.0</td>\n",
       "      <td>4</td>\n",
       "      <td>4.0</td>\n",
       "    </tr>\n",
       "  </tbody>\n",
       "</table>\n",
       "<p>5 rows × 164 columns</p>\n",
       "</div>"
      ],
      "text/plain": [
       "       Undl0volatm_6M  Undl0skew95.105_6M  Undl0curve95.105_6M  \\\n",
       "8259         0.199696           -0.639256             0.548851   \n",
       "579          0.199696           -0.639256             0.548851   \n",
       "11146        0.199696           -0.639256             0.548851   \n",
       "16275        0.199696           -0.639256             0.548851   \n",
       "11423        0.199696           -0.639256             0.548851   \n",
       "\n",
       "       Undl0skew70.130_6M  Undl0curve70.130_6M  Undl0volatm_1Y  \\\n",
       "8259            -0.522159             0.271453        0.175803   \n",
       "579             -0.522159             0.271453        0.175803   \n",
       "11146           -0.522159             0.271453        0.175803   \n",
       "16275           -0.522159             0.271453        0.175803   \n",
       "11423           -0.522159             0.271453        0.175803   \n",
       "\n",
       "       Undl0skew95.105_1Y  Undl0curve95.105_1Y  Undl0skew70.130_1Y  \\\n",
       "8259            -0.289374             0.207985             -0.2683   \n",
       "579             -0.289374             0.207985             -0.2683   \n",
       "11146           -0.289374             0.207985             -0.2683   \n",
       "16275           -0.289374             0.207985             -0.2683   \n",
       "11423           -0.289374             0.207985             -0.2683   \n",
       "\n",
       "       Undl0curve70.130_1Y  ...  Undl1svc  Undl2svc  Undl0mr  Undl1mr  \\\n",
       "8259              0.141526  ...   -0.6300     -0.68     3.96     3.81   \n",
       "579               0.141526  ...   -0.6300     -0.68     1.32     1.27   \n",
       "11146             0.141526  ...   -0.4725     -0.51     2.64     2.54   \n",
       "16275             0.141526  ...   -0.6300     -0.68     2.64     2.54   \n",
       "11423             0.141526  ...   -0.6300     -0.68     2.64     2.54   \n",
       "\n",
       "       Undl2mr  ContractFeature_Autocall,BarrierLevel,LevelInitial  \\\n",
       "8259     3.195                                               1.05    \n",
       "579      1.065                                               1.15    \n",
       "11146    2.130                                               1.05    \n",
       "16275    2.130                                               1.00    \n",
       "11423    2.130                                               1.00    \n",
       "\n",
       "       ContractFeature_ExpiryPayment,BarrierLevel  \\\n",
       "8259                                         0.70   \n",
       "579                                          0.50   \n",
       "11146                                        0.55   \n",
       "16275                                        0.60   \n",
       "11423                                        0.55   \n",
       "\n",
       "       ContractFeature_ExpiryPayment,KickInPaymentGearing_ENCODED  \\\n",
       "8259                                                 1.0            \n",
       "579                                                  1.0            \n",
       "11146                                                1.0            \n",
       "16275                                                1.0            \n",
       "11423                                                2.0            \n",
       "\n",
       "       ContractFeature_Schedule,EndDate_ENCODED  \\\n",
       "8259                                          1   \n",
       "579                                           1   \n",
       "11146                                         2   \n",
       "16275                                         1   \n",
       "11423                                         4   \n",
       "\n",
       "       ContractFeature_Schedule,PeriodFrequency_ENCODED  \n",
       "8259                                                4.0  \n",
       "579                                                 4.0  \n",
       "11146                                              12.0  \n",
       "16275                                              12.0  \n",
       "11423                                               4.0  \n",
       "\n",
       "[5 rows x 164 columns]"
      ]
     },
     "execution_count": 14,
     "metadata": {},
     "output_type": "execute_result"
    }
   ],
   "source": [
    "# sampleX = sampleX.drop('ContractFeature_Schedule,EndDate_ENCODED',1)\n",
    "sampleX.head()"
   ]
  },
  {
   "cell_type": "code",
   "execution_count": 15,
   "metadata": {},
   "outputs": [
    {
     "data": {
      "text/plain": [
       "8259     0.003342\n",
       "579      0.005626\n",
       "11146    0.021826\n",
       "16275    0.011193\n",
       "11423    0.024326\n",
       "           ...   \n",
       "9731    -0.003219\n",
       "16925    0.014023\n",
       "15909    0.005125\n",
       "1327     0.009078\n",
       "8918     0.003895\n",
       "Name: val_lvsvcharge, Length: 3750, dtype: float64"
      ]
     },
     "execution_count": 15,
     "metadata": {},
     "output_type": "execute_result"
    }
   ],
   "source": [
    "sampleY"
   ]
  },
  {
   "cell_type": "code",
   "execution_count": 16,
   "metadata": {
    "scrolled": true
   },
   "outputs": [
    {
     "name": "stdout",
     "output_type": "stream",
     "text": [
      "[15:37:42] WARNING: src/objective/regression_obj.cu:152: reg:linear is now deprecated in favor of reg:squarederror.\n",
      "[15:37:43] WARNING: src/objective/regression_obj.cu:152: reg:linear is now deprecated in favor of reg:squarederror.\n",
      "[15:37:45] WARNING: src/objective/regression_obj.cu:152: reg:linear is now deprecated in favor of reg:squarederror.\n",
      "[15:37:46] WARNING: src/objective/regression_obj.cu:152: reg:linear is now deprecated in favor of reg:squarederror.\n",
      "[15:37:47] WARNING: src/objective/regression_obj.cu:152: reg:linear is now deprecated in favor of reg:squarederror.\n",
      "[15:37:48] WARNING: src/objective/regression_obj.cu:152: reg:linear is now deprecated in favor of reg:squarederror.\n",
      "[15:37:49] WARNING: src/objective/regression_obj.cu:152: reg:linear is now deprecated in favor of reg:squarederror.\n",
      "[15:37:50] WARNING: src/objective/regression_obj.cu:152: reg:linear is now deprecated in favor of reg:squarederror.\n",
      "[15:37:52] WARNING: src/objective/regression_obj.cu:152: reg:linear is now deprecated in favor of reg:squarederror.\n",
      "[15:37:53] WARNING: src/objective/regression_obj.cu:152: reg:linear is now deprecated in favor of reg:squarederror.\n",
      "[15:37:54] WARNING: src/objective/regression_obj.cu:152: reg:linear is now deprecated in favor of reg:squarederror.\n",
      "[15:37:55] WARNING: src/objective/regression_obj.cu:152: reg:linear is now deprecated in favor of reg:squarederror.\n",
      "[15:37:56] WARNING: src/objective/regression_obj.cu:152: reg:linear is now deprecated in favor of reg:squarederror.\n",
      "[15:37:57] WARNING: src/objective/regression_obj.cu:152: reg:linear is now deprecated in favor of reg:squarederror.\n",
      "[15:37:58] WARNING: src/objective/regression_obj.cu:152: reg:linear is now deprecated in favor of reg:squarederror.\n",
      "[15:37:59] WARNING: src/objective/regression_obj.cu:152: reg:linear is now deprecated in favor of reg:squarederror.\n",
      "[15:38:00] WARNING: src/objective/regression_obj.cu:152: reg:linear is now deprecated in favor of reg:squarederror.\n",
      "[15:38:01] WARNING: src/objective/regression_obj.cu:152: reg:linear is now deprecated in favor of reg:squarederror.\n",
      "[15:38:02] WARNING: src/objective/regression_obj.cu:152: reg:linear is now deprecated in favor of reg:squarederror.\n",
      "[15:38:04] WARNING: src/objective/regression_obj.cu:152: reg:linear is now deprecated in favor of reg:squarederror.\n",
      "[15:38:06] WARNING: src/objective/regression_obj.cu:152: reg:linear is now deprecated in favor of reg:squarederror.\n",
      "[15:38:07] WARNING: src/objective/regression_obj.cu:152: reg:linear is now deprecated in favor of reg:squarederror.\n",
      "[15:38:10] WARNING: src/objective/regression_obj.cu:152: reg:linear is now deprecated in favor of reg:squarederror.\n",
      "[15:38:12] WARNING: src/objective/regression_obj.cu:152: reg:linear is now deprecated in favor of reg:squarederror.\n",
      "[15:38:14] WARNING: src/objective/regression_obj.cu:152: reg:linear is now deprecated in favor of reg:squarederror.\n",
      "[15:38:16] WARNING: src/objective/regression_obj.cu:152: reg:linear is now deprecated in favor of reg:squarederror.\n",
      "[15:38:19] WARNING: src/objective/regression_obj.cu:152: reg:linear is now deprecated in favor of reg:squarederror.\n",
      "[15:38:22] WARNING: src/objective/regression_obj.cu:152: reg:linear is now deprecated in favor of reg:squarederror.\n",
      "[15:38:23] WARNING: src/objective/regression_obj.cu:152: reg:linear is now deprecated in favor of reg:squarederror.\n",
      "[15:38:24] WARNING: src/objective/regression_obj.cu:152: reg:linear is now deprecated in favor of reg:squarederror.\n",
      "[15:38:25] WARNING: src/objective/regression_obj.cu:152: reg:linear is now deprecated in favor of reg:squarederror.\n",
      "[15:38:26] WARNING: src/objective/regression_obj.cu:152: reg:linear is now deprecated in favor of reg:squarederror.\n",
      "[15:38:27] WARNING: src/objective/regression_obj.cu:152: reg:linear is now deprecated in favor of reg:squarederror.\n",
      "[15:38:28] WARNING: src/objective/regression_obj.cu:152: reg:linear is now deprecated in favor of reg:squarederror.\n",
      "[15:38:30] WARNING: src/objective/regression_obj.cu:152: reg:linear is now deprecated in favor of reg:squarederror.\n",
      "[15:38:31] WARNING: src/objective/regression_obj.cu:152: reg:linear is now deprecated in favor of reg:squarederror.\n",
      "[15:38:32] WARNING: src/objective/regression_obj.cu:152: reg:linear is now deprecated in favor of reg:squarederror.\n",
      "[15:38:33] WARNING: src/objective/regression_obj.cu:152: reg:linear is now deprecated in favor of reg:squarederror.\n",
      "[15:38:34] WARNING: src/objective/regression_obj.cu:152: reg:linear is now deprecated in favor of reg:squarederror.\n",
      "[15:38:35] WARNING: src/objective/regression_obj.cu:152: reg:linear is now deprecated in favor of reg:squarederror.\n",
      "[15:38:36] WARNING: src/objective/regression_obj.cu:152: reg:linear is now deprecated in favor of reg:squarederror.\n",
      "[15:38:37] WARNING: src/objective/regression_obj.cu:152: reg:linear is now deprecated in favor of reg:squarederror.\n",
      "[15:38:38] WARNING: src/objective/regression_obj.cu:152: reg:linear is now deprecated in favor of reg:squarederror.\n",
      "[15:38:39] WARNING: src/objective/regression_obj.cu:152: reg:linear is now deprecated in favor of reg:squarederror.\n",
      "[15:38:40] WARNING: src/objective/regression_obj.cu:152: reg:linear is now deprecated in favor of reg:squarederror.\n",
      "[15:38:41] WARNING: src/objective/regression_obj.cu:152: reg:linear is now deprecated in favor of reg:squarederror.\n",
      "[15:38:43] WARNING: src/objective/regression_obj.cu:152: reg:linear is now deprecated in favor of reg:squarederror.\n",
      "[15:38:45] WARNING: src/objective/regression_obj.cu:152: reg:linear is now deprecated in favor of reg:squarederror.\n",
      "[15:38:46] WARNING: src/objective/regression_obj.cu:152: reg:linear is now deprecated in favor of reg:squarederror.\n",
      "[15:38:49] WARNING: src/objective/regression_obj.cu:152: reg:linear is now deprecated in favor of reg:squarederror.\n",
      "[15:38:51] WARNING: src/objective/regression_obj.cu:152: reg:linear is now deprecated in favor of reg:squarederror.\n",
      "[15:38:53] WARNING: src/objective/regression_obj.cu:152: reg:linear is now deprecated in favor of reg:squarederror.\n",
      "[15:38:56] WARNING: src/objective/regression_obj.cu:152: reg:linear is now deprecated in favor of reg:squarederror.\n",
      "[15:38:58] WARNING: src/objective/regression_obj.cu:152: reg:linear is now deprecated in favor of reg:squarederror.\n",
      "[15:39:01] WARNING: src/objective/regression_obj.cu:152: reg:linear is now deprecated in favor of reg:squarederror.\n"
     ]
    },
    {
     "data": {
      "text/plain": [
       "GridSearchCV(cv='warn', error_score='raise-deprecating',\n",
       "             estimator=XGBRegressor(base_score=0.5, booster='gbtree',\n",
       "                                    colsample_bylevel=1, colsample_bynode=1,\n",
       "                                    colsample_bytree=1, gamma=0,\n",
       "                                    importance_type='gain', learning_rate=0.1,\n",
       "                                    max_delta_step=0, max_depth=3,\n",
       "                                    min_child_weight=1, missing=None,\n",
       "                                    n_estimators=100, n_jobs=1, nthread=-1,\n",
       "                                    objective='reg:linear', random_state=0,\n",
       "                                    reg_alpha=0, reg_lambda=1,\n",
       "                                    scale_pos_weight=1, seed=None, silent=None,\n",
       "                                    subsample=1, verbosity=1),\n",
       "             iid='warn', n_jobs=None,\n",
       "             param_grid={'gamma': [0, 0.5], 'learning_rate': [0.01, 0.005, 0.1],\n",
       "                         'max_bin': [250], 'max_depth': [3, 5, 7]},\n",
       "             pre_dispatch='2*n_jobs', refit=True, return_train_score=False,\n",
       "             scoring=None, verbose=0)"
      ]
     },
     "execution_count": 16,
     "metadata": {},
     "output_type": "execute_result"
    }
   ],
   "source": [
    "# apply gridSearch to this sample\n",
    "xgb = XGBRegressor(nthread = -1)\n",
    "grid = GridSearchCV(xgb, param)\n",
    "grid.fit(sampleX, sampleY)"
   ]
  },
  {
   "cell_type": "code",
   "execution_count": 17,
   "metadata": {},
   "outputs": [
    {
     "data": {
      "text/plain": [
       "XGBRegressor(base_score=0.5, booster='gbtree', colsample_bylevel=1,\n",
       "             colsample_bynode=1, colsample_bytree=1, gamma=0,\n",
       "             importance_type='gain', learning_rate=0.1, max_bin=250,\n",
       "             max_delta_step=0, max_depth=7, min_child_weight=1, missing=None,\n",
       "             n_estimators=100, n_jobs=1, nthread=-1, objective='reg:linear',\n",
       "             random_state=0, reg_alpha=0, reg_lambda=1, scale_pos_weight=1,\n",
       "             seed=None, silent=None, subsample=1, verbosity=1)"
      ]
     },
     "execution_count": 17,
     "metadata": {},
     "output_type": "execute_result"
    }
   ],
   "source": [
    "grid.best_estimator_"
   ]
  },
  {
   "cell_type": "code",
   "execution_count": 18,
   "metadata": {},
   "outputs": [],
   "source": [
    "# best_xgb = XGBRegressor(nthread = -1, learning_rate = 0.1, max_depth = 3)\n",
    "best_xgb = grid.best_estimator_"
   ]
  },
  {
   "cell_type": "code",
   "execution_count": 19,
   "metadata": {},
   "outputs": [
    {
     "data": {
      "text/plain": [
       "XGBRegressor(base_score=0.5, booster='gbtree', colsample_bylevel=1,\n",
       "             colsample_bynode=1, colsample_bytree=1, gamma=0,\n",
       "             importance_type='gain', learning_rate=0.1, max_bin=250,\n",
       "             max_delta_step=0, max_depth=7, min_child_weight=1, missing=None,\n",
       "             n_estimators=100, n_jobs=1, nthread=-1, objective='reg:linear',\n",
       "             random_state=0, reg_alpha=0, reg_lambda=1, scale_pos_weight=1,\n",
       "             seed=None, silent=None, subsample=1, verbosity=1)"
      ]
     },
     "execution_count": 19,
     "metadata": {},
     "output_type": "execute_result"
    }
   ],
   "source": [
    "grid.best_estimator_"
   ]
  },
  {
   "cell_type": "code",
   "execution_count": 20,
   "metadata": {},
   "outputs": [],
   "source": [
    "# best_xgb = XGBRegressor(nthread = -1, learning_rate = 0.1, max_depth = 3, gamma = 0, max_bin = 300)"
   ]
  },
  {
   "cell_type": "code",
   "execution_count": 21,
   "metadata": {},
   "outputs": [],
   "source": [
    "#for each batch, we'll train on 75% of data and validate with the rest.\n",
    "trainValidIndex = int(0.75*len(data))\n",
    "#engineer features. Here, our toy function\n",
    "trainX, trainY = engineerData(data.iloc[:trainValidIndex,:])"
   ]
  },
  {
   "cell_type": "code",
   "execution_count": 22,
   "metadata": {},
   "outputs": [
    {
     "data": {
      "text/plain": [
       "0        0.016317\n",
       "1        0.012242\n",
       "2        0.004407\n",
       "3        0.024401\n",
       "4        0.002798\n",
       "           ...   \n",
       "14995    0.007918\n",
       "14996    0.010605\n",
       "14997    0.019785\n",
       "14998    0.007747\n",
       "14999    0.026993\n",
       "Name: val_lvsvcharge, Length: 15000, dtype: float64"
      ]
     },
     "execution_count": 22,
     "metadata": {},
     "output_type": "execute_result"
    }
   ],
   "source": [
    "trainY"
   ]
  },
  {
   "cell_type": "code",
   "execution_count": 23,
   "metadata": {},
   "outputs": [
    {
     "name": "stdout",
     "output_type": "stream",
     "text": [
      "[15:39:05] WARNING: src/objective/regression_obj.cu:152: reg:linear is now deprecated in favor of reg:squarederror.\n"
     ]
    }
   ],
   "source": [
    "validX, validY = engineerData(data.iloc[trainValidIndex:,:], isTrain=False)\n",
    "#build training and validation gbm dataset objects\n",
    "# fitted = best_xgb.fit(trainX.drop('ContractFeature_Schedule,EndDate_ENCODED',1), trainY)\n",
    "fitted = best_xgb.fit(trainX, trainY)\n",
    "\n",
    "# dtrainX = best_xgb.DMatrix(data = trainX.values, feature_names = trainX.columns, label = trainY.values)"
   ]
  },
  {
   "cell_type": "code",
   "execution_count": 24,
   "metadata": {},
   "outputs": [],
   "source": [
    "predY = fitted.predict(validX)\n",
    "# predY = fitted.predict(validX.drop('ContractFeature_Schedule,EndDate_ENCODED',1))"
   ]
  },
  {
   "cell_type": "code",
   "execution_count": 25,
   "metadata": {},
   "outputs": [
    {
     "data": {
      "text/plain": [
       "9.9382671860567e-07"
      ]
     },
     "execution_count": 25,
     "metadata": {},
     "output_type": "execute_result"
    }
   ],
   "source": [
    "np.sum((predY-validY)**2/len(validY))"
   ]
  },
  {
   "cell_type": "code",
   "execution_count": 26,
   "metadata": {},
   "outputs": [
    {
     "data": {
      "text/plain": [
       "<bound method XGBModel.evals_result of XGBRegressor(base_score=0.5, booster='gbtree', colsample_bylevel=1,\n",
       "             colsample_bynode=1, colsample_bytree=1, gamma=0,\n",
       "             importance_type='gain', learning_rate=0.1, max_bin=250,\n",
       "             max_delta_step=0, max_depth=7, min_child_weight=1, missing=None,\n",
       "             n_estimators=100, n_jobs=1, nthread=-1, objective='reg:linear',\n",
       "             random_state=0, reg_alpha=0, reg_lambda=1, scale_pos_weight=1,\n",
       "             seed=None, silent=None, subsample=1, verbosity=1)>"
      ]
     },
     "execution_count": 26,
     "metadata": {},
     "output_type": "execute_result"
    }
   ],
   "source": [
    "best_xgb.evals_result"
   ]
  },
  {
   "cell_type": "code",
   "execution_count": 27,
   "metadata": {},
   "outputs": [
    {
     "data": {
      "text/plain": [
       "array([0.04249409, 0.        , 0.        , 0.        , 0.        ,\n",
       "       0.        , 0.        , 0.        , 0.        , 0.        ,\n",
       "       0.        , 0.        , 0.        , 0.        , 0.        ,\n",
       "       0.        , 0.        , 0.        , 0.        , 0.        ,\n",
       "       0.        , 0.        , 0.        , 0.        , 0.        ,\n",
       "       0.        , 0.        , 0.        , 0.        , 0.        ,\n",
       "       0.        , 0.        , 0.        , 0.        , 0.        ,\n",
       "       0.        , 0.        , 0.        , 0.        , 0.        ,\n",
       "       0.        , 0.        , 0.        , 0.        , 0.        ,\n",
       "       0.        , 0.        , 0.        , 0.        , 0.        ,\n",
       "       0.        , 0.        , 0.        , 0.        , 0.        ,\n",
       "       0.        , 0.        , 0.        , 0.        , 0.        ,\n",
       "       0.        , 0.        , 0.        , 0.        , 0.        ,\n",
       "       0.        , 0.        , 0.        , 0.        , 0.        ,\n",
       "       0.        , 0.        , 0.        , 0.        , 0.        ,\n",
       "       0.        , 0.        , 0.        , 0.        , 0.        ,\n",
       "       0.        , 0.        , 0.        , 0.        , 0.        ,\n",
       "       0.        , 0.        , 0.        , 0.        , 0.        ,\n",
       "       0.        , 0.        , 0.        , 0.        , 0.        ,\n",
       "       0.        , 0.        , 0.        , 0.        , 0.        ,\n",
       "       0.        , 0.        , 0.        , 0.        , 0.        ,\n",
       "       0.        , 0.        , 0.        , 0.        , 0.        ,\n",
       "       0.        , 0.        , 0.        , 0.        , 0.        ,\n",
       "       0.        , 0.        , 0.        , 0.        , 0.        ,\n",
       "       0.        , 0.        , 0.        , 0.        , 0.        ,\n",
       "       0.        , 0.        , 0.        , 0.        , 0.        ,\n",
       "       0.        , 0.        , 0.        , 0.        , 0.        ,\n",
       "       0.        , 0.        , 0.        , 0.        , 0.        ,\n",
       "       0.        , 0.        , 0.        , 0.        , 0.        ,\n",
       "       0.        , 0.        , 0.        , 0.        , 0.        ,\n",
       "       0.10318998, 0.        , 0.        , 0.0861774 , 0.        ,\n",
       "       0.        , 0.20530684, 0.        , 0.        , 0.14721441,\n",
       "       0.1544702 , 0.07234223, 0.1461629 , 0.04264193], dtype=float32)"
      ]
     },
     "execution_count": 27,
     "metadata": {},
     "output_type": "execute_result"
    }
   ],
   "source": [
    "fitted.feature_importances_"
   ]
  },
  {
   "cell_type": "code",
   "execution_count": 28,
   "metadata": {},
   "outputs": [
    {
     "data": {
      "image/png": "[encoded data removed]",
      "text/plain": [
       "<Figure size 432x288 with 1 Axes>"
      ]
     },
     "metadata": {
      "needs_background": "light"
     },
     "output_type": "display_data"
    }
   ],
   "source": [
    "# plot\n",
    "plt.bar(range(len(best_xgb.feature_importances_)), best_xgb.feature_importances_)\n",
    "plt.show()"
   ]
  },
  {
   "cell_type": "code",
   "execution_count": 29,
   "metadata": {},
   "outputs": [
    {
     "data": {
      "image/png": "[encoded data removed]",
      "text/plain": [
       "<Figure size 432x288 with 1 Axes>"
      ]
     },
     "metadata": {
      "needs_background": "light"
     },
     "output_type": "display_data"
    }
   ],
   "source": [
    "# plot feature importance\n",
    "plot_importance(best_xgb)\n",
    "plt.show()"
   ]
  },
  {
   "cell_type": "code",
   "execution_count": 30,
   "metadata": {},
   "outputs": [
    {
     "data": {
      "image/png": "[encoded data removed]",
      "text/plain": [
       "<Figure size 432x288 with 1 Axes>"
      ]
     },
     "metadata": {
      "needs_background": "light"
     },
     "output_type": "display_data"
    }
   ],
   "source": [
    "plt.figure()\n",
    "plt.plot(np.arange(len(validX)), validY, alpha = 0.7, label = 'real-value')\n",
    "plt.plot(np.arange(len(validX)), predY, alpha = 0.7, label = 'pred-value')\n",
    "plt.legend()\n",
    "plt.show()"
   ]
  },
  {
   "cell_type": "markdown",
   "metadata": {},
   "source": [
    "## Plot intepretation\n"
   ]
  },
  {
   "cell_type": "code",
   "execution_count": 40,
   "metadata": {},
   "outputs": [
    {
     "data": {
      "text/plain": [
       "<matplotlib.axes._subplots.AxesSubplot at 0x7fca23d58588>"
      ]
     },
     "execution_count": 40,
     "metadata": {},
     "output_type": "execute_result"
    },
    {
     "data": {
      "image/png": "[encoded data removed]",
      "text/plain": [
       "<Figure size 432x288 with 1 Axes>"
      ]
     },
     "metadata": {
      "needs_background": "light"
     },
     "output_type": "display_data"
    }
   ],
   "source": [
    "# # requires graphviz and python-graphviz conda packages\n",
    "import graphviz\n",
    "import xgboost\n",
    "\n",
    "xgboost.plot_importance(best_xgb)\n",
    "\n",
    "# plot the output tree via matplotlib, specifying the ordinal number of the target tree\n",
    "# xgb.plot_tree(xgb_model, num_trees=xgb_model.best_iteration)\n",
    "\n",
    "# converts the target tree to a graphviz instance\n",
    "# xgboost.to_graphviz(best_xgb, num_trees=best_xgb.best_iteration) // best_iteration ?\n",
    "\n"
   ]
  },
  {
   "cell_type": "markdown",
   "metadata": {},
   "source": [
    "* https://www.kaggle.com/zj0512/using-xgboost-with-scikit-learn\n",
    "example at the end of this link"
   ]
  },
  {
   "cell_type": "code",
   "execution_count": null,
   "metadata": {},
   "outputs": [],
   "source": []
  }
 ],
 "metadata": {
  "kernelspec": {
   "display_name": "Python 3",
   "language": "python",
   "name": "python3"
  },
  "language_info": {
   "codemirror_mode": {
    "name": "ipython",
    "version": 3
   },
   "file_extension": ".py",
   "mimetype": "text/x-python",
   "name": "python",
   "nbconvert_exporter": "python",
   "pygments_lexer": "ipython3",
   "version": "3.7.0"
  },
  "toc": {
   "base_numbering": 1,
   "nav_menu": {},
   "number_sections": true,
   "sideBar": true,
   "skip_h1_title": false,
   "title_cell": "Table of Contents",
   "title_sidebar": "Contents",
   "toc_cell": false,
   "toc_position": {},
   "toc_section_display": true,
   "toc_window_display": false
  }
 },
 "nbformat": 4,
 "nbformat_minor": 2
}
